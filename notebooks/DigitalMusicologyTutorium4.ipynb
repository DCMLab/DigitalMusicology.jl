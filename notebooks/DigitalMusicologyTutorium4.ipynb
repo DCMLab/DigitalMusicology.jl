{
 "cells": [
  {
   "cell_type": "code",
   "execution_count": null,
   "metadata": {},
   "outputs": [],
   "source": [
    "# import packages\n",
    "using DigitalMusicology\n",
    "using DataFrames\n",
    "using Plots"
   ]
  },
  {
   "cell_type": "markdown",
   "metadata": {},
   "source": [
    "# 1) Convert Frequencies to Pitches and vice verca"
   ]
  },
  {
   "cell_type": "code",
   "execution_count": null,
   "metadata": {},
   "outputs": [],
   "source": [
    "# A4 is set to 440Hz\n",
    "frequency_to_pitch(f) = 69 + 12 * log2(f / 440)\n",
    "\n",
    "pitch_to_frequency(p) = 2^((p - 69) / 12) * 440"
   ]
  },
  {
   "cell_type": "code",
   "execution_count": null,
   "metadata": {},
   "outputs": [],
   "source": [
    "# the frequency of C4\n",
    "pitch_to_frequency(60)"
   ]
  },
  {
   "cell_type": "code",
   "execution_count": null,
   "metadata": {},
   "outputs": [],
   "source": [
    "# the lowest midi note has a frequency of about 8Hz,\n",
    "# the highest about 13kHz\n",
    "# humans typically hear between 20Hz and 20kHz\n",
    "pitch_to_frequency(0), pitch_to_frequency(127)"
   ]
  },
  {
   "cell_type": "markdown",
   "metadata": {},
   "source": [
    "# 2) Example of this Weeks Tutorial: Iron Maiden *Run to the hills*\n",
    "[song on youtube](https://www.youtube.com/watch?v=3ZlDZPYzfm4)\n",
    "\n",
    "[find midi file here](http://www.maidenmidi.com/number.html)\n",
    "\n",
    "The midi file can also be read by Garageband and MuseScore!"
   ]
  },
  {
   "cell_type": "markdown",
   "metadata": {},
   "source": [
    "# 3) Read MIDI File as a DataFrame\n",
    "- A MIDI file is essentially a list of **MIDI events / MIDI commands**\n",
    "- There are of are **note-on**, **note-off**, and **meta events** grouped by **channels** (repesenting voices) that are grouped by **tracks** (representing instruments)\n",
    "- For note events, **pitch** and **velocity** are specified\n",
    "- Meta events e.g. specify the key of a piece or indicate tempo changes\n",
    "- To work with a MIDI file, we convert it into a list of notes"
   ]
  },
  {
   "cell_type": "code",
   "execution_count": null,
   "metadata": {},
   "outputs": [],
   "source": [
    "notes = midifilenotes(\"Run_To_The_Hills.mid\")\n",
    "head(notes)"
   ]
  },
  {
   "cell_type": "markdown",
   "metadata": {},
   "source": [
    "- `key_sharps` and `key_major` have default values\n",
    "- Be careful if you see the default setting `(0,true)` like here!"
   ]
  },
  {
   "cell_type": "code",
   "execution_count": null,
   "metadata": {},
   "outputs": [],
   "source": [
    "notes[:key_sharps] |> unique"
   ]
  },
  {
   "cell_type": "code",
   "execution_count": null,
   "metadata": {
    "scrolled": false
   },
   "outputs": [],
   "source": [
    "?midifilenotes"
   ]
  },
  {
   "cell_type": "code",
   "execution_count": null,
   "metadata": {},
   "outputs": [],
   "source": [
    "# this is a small pipeline\n",
    "notes[:track] |> unique |> sort"
   ]
  },
  {
   "cell_type": "code",
   "execution_count": null,
   "metadata": {},
   "outputs": [],
   "source": [
    "# it is equivalent to\n",
    "sort(unique(notes[:track]))"
   ]
  },
  {
   "cell_type": "code",
   "execution_count": null,
   "metadata": {},
   "outputs": [],
   "source": [
    "track_names = [\"meta\", \"vocals\", \"vocal harmony\", \"guitar 1\", \"guitar 2\", \"bass\", \"drums\"]"
   ]
  },
  {
   "cell_type": "markdown",
   "metadata": {},
   "source": [
    "- Track 1 is reserved for meta events!\n",
    "- The other tracks are for vocals, vocal harmony, guitar 1, guitar 2, bass, drums\n",
    "- one row in the data frame represents one note\n",
    "- the columns are the features that we know about the notes\n",
    "\n",
    "# 4) A look at the first bar"
   ]
  },
  {
   "cell_type": "code",
   "execution_count": null,
   "metadata": {},
   "outputs": [],
   "source": [
    "# drums in first bar\n",
    "# there are 192 ticks per quarter note\n",
    "notes[1:20, [:onset_wholes, :onset_ticks]]"
   ]
  },
  {
   "cell_type": "markdown",
   "metadata": {},
   "source": [
    "# Exploratory Analysis\n",
    "- Pitch histogram\n",
    "- Pitch class histogram\n",
    "- Pitch class histogram per instrument\n",
    "- Note duration histogram per instrument\n",
    "- Beat histogram (onsets per beat) per instrument"
   ]
  },
  {
   "cell_type": "markdown",
   "metadata": {},
   "source": [
    "# 5) Plot a pitch histogram"
   ]
  },
  {
   "cell_type": "code",
   "execution_count": null,
   "metadata": {},
   "outputs": [],
   "source": [
    "# select the the instruments other than the drums\n",
    "not_percussive_notes = notes[notes[:track] .!= 7, :]\n",
    "head(not_percussive_notes)"
   ]
  },
  {
   "cell_type": "code",
   "execution_count": null,
   "metadata": {},
   "outputs": [],
   "source": [
    "# convert midi notes to pitch numbers\n",
    "pitches = [note.pitch for note in not_percussive_notes[:pitch]]\n",
    "pitches[1:10]"
   ]
  },
  {
   "cell_type": "code",
   "execution_count": null,
   "metadata": {
    "scrolled": false
   },
   "outputs": [],
   "source": [
    "# plot pitch histogram\n",
    "histogram(pitches, bins=collect(0:127))"
   ]
  },
  {
   "cell_type": "markdown",
   "metadata": {},
   "source": [
    "# 6) Plot a pitch class histogram"
   ]
  },
  {
   "cell_type": "code",
   "execution_count": null,
   "metadata": {},
   "outputs": [],
   "source": [
    "# plot pitch class histogram\n",
    "pitch_classes = [mod(p, 12) for p in pitches]\n",
    "xticks = (collect(0:11) .+ 0.5, collect(0:11))\n",
    "histogram(pitch_classes, bins=12, xticks=xticks)"
   ]
  },
  {
   "cell_type": "markdown",
   "metadata": {},
   "source": [
    "Looks like a C major scale!"
   ]
  },
  {
   "cell_type": "code",
   "execution_count": null,
   "metadata": {},
   "outputs": [],
   "source": [
    "# shift the histogram so that the most prominent note is in front\n",
    "shifted_xticks = (collect(0:11) .+ 0.5, [mod(pc+7, 12) for pc in 0:11])\n",
    "histogram(\n",
    "    [mod(pc-7, 12) for pc in pitch_classes], \n",
    "    bins=12, \n",
    "    xticks=shifted_xticks\n",
    ")"
   ]
  },
  {
   "cell_type": "code",
   "execution_count": null,
   "metadata": {},
   "outputs": [],
   "source": [
    "transform(p) = mod((p+4)*7, 12)\n",
    "histogram(\n",
    "    transform.(pitch_classes), \n",
    "    bins   = 12, \n",
    "    xticks = (transform.(collect(0:11)) .+ 0.5, (collect(0:11))), \n",
    "    xlim   = (0,12)\n",
    ")"
   ]
  },
  {
   "cell_type": "markdown",
   "metadata": {},
   "source": [
    "# 7) Plot a Pitch Class Histogram per Instrument"
   ]
  },
  {
   "cell_type": "code",
   "execution_count": null,
   "metadata": {
    "scrolled": false
   },
   "outputs": [],
   "source": [
    "for track in 2:6\n",
    "    display(\n",
    "        histogram(\n",
    "            [mod(note.pitch, 12) for note in notes[notes[:track] .== track, :pitch]], \n",
    "            bins   = collect(0:12),\n",
    "            xticks = xticks,\n",
    "            title  = track_names[track],\n",
    "            xlim = (0,12)\n",
    "        )\n",
    "    )\n",
    "end"
   ]
  },
  {
   "cell_type": "markdown",
   "metadata": {},
   "source": [
    "# 8) Plot a Note Duration Histogram per Instrument"
   ]
  },
  {
   "cell_type": "code",
   "execution_count": null,
   "metadata": {},
   "outputs": [],
   "source": [
    "onsets  = notes[notes[:track] .== 4, :onset_wholes]\n",
    "offsets = notes[notes[:track] .== 4, :offset_wholes]\n",
    "durations = offsets - onsets"
   ]
  },
  {
   "cell_type": "code",
   "execution_count": null,
   "metadata": {},
   "outputs": [],
   "source": [
    "[(d.num + 1) // d.den for d in durations]"
   ]
  },
  {
   "cell_type": "code",
   "execution_count": null,
   "metadata": {
    "scrolled": false
   },
   "outputs": [],
   "source": [
    "for track in 2:6\n",
    "    onsets  = notes[notes[:track] .== track, :onset_wholes]\n",
    "    offsets = notes[notes[:track] .== track, :offset_wholes]\n",
    "    durations = offsets - onsets\n",
    "    display(histogram([(d.num + 1) // d.den for d in durations], title=track_names[track]))\n",
    "end"
   ]
  },
  {
   "cell_type": "markdown",
   "metadata": {},
   "source": [
    "# 9) Plot beat histogram (onsets per beat) per instrument"
   ]
  },
  {
   "cell_type": "code",
   "execution_count": null,
   "metadata": {
    "scrolled": false
   },
   "outputs": [],
   "source": [
    "for track in 2:6\n",
    "    onsets  = notes[notes[:track] .== track, :onset_wholes]\n",
    "    display(\n",
    "        histogram(\n",
    "            [o - floor(o) for o in onsets], \n",
    "            bins  = [x*1/16 for x in 0:16], \n",
    "            title = track_names[track]\n",
    "        )\n",
    "    )\n",
    "end"
   ]
  }
 ],
 "metadata": {
  "kernelspec": {
   "display_name": "Julia 0.6.1",
   "language": "julia",
   "name": "julia-0.6"
  },
  "language_info": {
   "file_extension": ".jl",
   "mimetype": "application/julia",
   "name": "julia",
   "version": "0.6.1"
  }
 },
 "nbformat": 4,
 "nbformat_minor": 2
}
