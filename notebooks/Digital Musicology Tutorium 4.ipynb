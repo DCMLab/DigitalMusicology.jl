{
 "cells": [
  {
   "cell_type": "markdown",
   "metadata": {},
   "source": [
    "# Convert Frequencies to Pitches"
   ]
  },
  {
   "cell_type": "code",
   "execution_count": 34,
   "metadata": {},
   "outputs": [
    {
     "data": {
      "text/plain": [
       "pitch_to_frequency (generic function with 1 method)"
      ]
     },
     "execution_count": 34,
     "metadata": {},
     "output_type": "execute_result"
    }
   ],
   "source": [
    "# A4 is set to 440Hz\n",
    "frequency_to_pitch(f) = 69 + 12 * log2(f / 440)\n",
    "\n",
    "pitch_to_frequency(p) = 2^((p - 69) / 12) * 440"
   ]
  },
  {
   "cell_type": "code",
   "execution_count": 31,
   "metadata": {},
   "outputs": [
    {
     "data": {
      "text/plain": [
       "261.6255653005986"
      ]
     },
     "execution_count": 31,
     "metadata": {},
     "output_type": "execute_result"
    }
   ],
   "source": [
    "# the frequency of C4\n",
    "pitch_to_frequency(60)"
   ]
  },
  {
   "cell_type": "code",
   "execution_count": 33,
   "metadata": {},
   "outputs": [
    {
     "data": {
      "text/plain": [
       "(8.175798915643707, 12543.853951415975)"
      ]
     },
     "execution_count": 33,
     "metadata": {},
     "output_type": "execute_result"
    }
   ],
   "source": [
    "# the lowest midi note has a frequency of about 8Hz,\n",
    "# the highest about 13kHz\n",
    "# humans typically hear between 20Hz and 20kHz\n",
    "pitch_to_frequency(0), pitch_to_frequency(127)"
   ]
  },
  {
   "cell_type": "markdown",
   "metadata": {},
   "source": [
    "# Import Packages"
   ]
  },
  {
   "cell_type": "code",
   "execution_count": 35,
   "metadata": {},
   "outputs": [],
   "source": [
    "using DigitalMusicology\n",
    "using DataFrames"
   ]
  },
  {
   "cell_type": "markdown",
   "metadata": {},
   "source": [
    "# Import MIDI File"
   ]
  },
  {
   "cell_type": "code",
   "execution_count": 4,
   "metadata": {
    "scrolled": false
   },
   "outputs": [
    {
     "name": "stdout",
     "output_type": "stream",
     "text": [
      "search: \u001b[1mm\u001b[22m\u001b[1mi\u001b[22m\u001b[1md\u001b[22m\u001b[1mi\u001b[22m\u001b[1mf\u001b[22m\u001b[1mi\u001b[22m\u001b[1ml\u001b[22m\u001b[1me\u001b[22m\u001b[1mn\u001b[22m\u001b[1mo\u001b[22m\u001b[1mt\u001b[22m\u001b[1me\u001b[22m\u001b[1ms\u001b[22m\n",
      "\n"
     ]
    },
    {
     "data": {
      "text/markdown": [
       "```\n",
       "midifilenotes(file; warnings=false, overlaps=:queue, orphans=:skip)\n",
       "```\n",
       "\n",
       "Reads a midi file and returns a `DataFrame` with one row per note. On- and offset times are given in ticks, whole notes, and seconds. The data frame has the following columns:\n",
       "\n",
       "  * onset_ticks (Int)\n",
       "  * offset_ticks (Int)\n",
       "  * onset_wholes (Rational{Int})\n",
       "  * offset_wholes (Rational{Int})\n",
       "  * onset_secs (Rational{Int})\n",
       "  * offset_secs (Rational{Int})\n",
       "  * pitch (MidiPitch)\n",
       "  * velocity (Int)\n",
       "  * channel (Int)\n",
       "  * track (Int)\n",
       "  * key_sharps (Int)\n",
       "  * key_major (Bool)\n",
       "\n",
       "If `warnings` is `true`, warnings about encoding errors will be displayed. If two notes overlap on the same channel and track (e.g. two ons, then two offs for the same pitch) `overlaps` provides the strategy for interpreting the sequence of on and off events:\n",
       "\n",
       "  * `:queue` matches ons and offs in a FIFO manner (first on to first off).\n",
       "  * `:stack` matches ons and offs in a LIFO manner (first on to last off).\n",
       "\n",
       "`orphans` determines what happens to on and off events without counterpart. Currently, its value is ignored and orphan events are always skipped.\n"
      ],
      "text/plain": [
       "```\n",
       "midifilenotes(file; warnings=false, overlaps=:queue, orphans=:skip)\n",
       "```\n",
       "\n",
       "Reads a midi file and returns a `DataFrame` with one row per note. On- and offset times are given in ticks, whole notes, and seconds. The data frame has the following columns:\n",
       "\n",
       "  * onset_ticks (Int)\n",
       "  * offset_ticks (Int)\n",
       "  * onset_wholes (Rational{Int})\n",
       "  * offset_wholes (Rational{Int})\n",
       "  * onset_secs (Rational{Int})\n",
       "  * offset_secs (Rational{Int})\n",
       "  * pitch (MidiPitch)\n",
       "  * velocity (Int)\n",
       "  * channel (Int)\n",
       "  * track (Int)\n",
       "  * key_sharps (Int)\n",
       "  * key_major (Bool)\n",
       "\n",
       "If `warnings` is `true`, warnings about encoding errors will be displayed. If two notes overlap on the same channel and track (e.g. two ons, then two offs for the same pitch) `overlaps` provides the strategy for interpreting the sequence of on and off events:\n",
       "\n",
       "  * `:queue` matches ons and offs in a FIFO manner (first on to first off).\n",
       "  * `:stack` matches ons and offs in a LIFO manner (first on to last off).\n",
       "\n",
       "`orphans` determines what happens to on and off events without counterpart. Currently, its value is ignored and orphan events are always skipped.\n"
      ]
     },
     "execution_count": 4,
     "metadata": {},
     "output_type": "execute_result"
    }
   ],
   "source": [
    "# read midi files as data frame\n",
    "?midifilenotes"
   ]
  },
  {
   "cell_type": "code",
   "execution_count": 9,
   "metadata": {},
   "outputs": [
    {
     "data": {
      "text/html": [
       "<table class=\"data-frame\"><thead><tr><th></th><th>onset_ticks</th><th>offset_ticks</th><th>onset_wholes</th><th>offset_wholes</th><th>onset_secs</th><th>offset_secs</th><th>pitch</th><th>velocity</th><th>track</th><th>channel</th><th>key_sharps</th><th>key_major</th></tr></thead><tbody><tr><th>1</th><td>0</td><td>46</td><td>0//1</td><td>23//384</td><td>0.0</td><td>0.10569841666666667</td><td>42</td><td>110</td><td>7</td><td>9</td><td>0</td><td>true</td></tr><tr><th>2</th><td>0</td><td>160</td><td>0//1</td><td>5//24</td><td>0.0</td><td>0.3676466666666667</td><td>36</td><td>110</td><td>7</td><td>9</td><td>0</td><td>true</td></tr><tr><th>3</th><td>48</td><td>94</td><td>1//16</td><td>47//384</td><td>0.110294</td><td>0.2159924166666667</td><td>42</td><td>110</td><td>7</td><td>9</td><td>0</td><td>true</td></tr><tr><th>4</th><td>96</td><td>142</td><td>1//8</td><td>71//384</td><td>0.220588</td><td>0.3262864166666667</td><td>42</td><td>110</td><td>7</td><td>9</td><td>0</td><td>true</td></tr><tr><th>5</th><td>144</td><td>190</td><td>3//16</td><td>95//384</td><td>0.330882</td><td>0.4365804166666667</td><td>42</td><td>110</td><td>7</td><td>9</td><td>0</td><td>true</td></tr><tr><th>6</th><td>192</td><td>238</td><td>1//4</td><td>119//384</td><td>0.441176</td><td>0.5468744166666667</td><td>42</td><td>110</td><td>7</td><td>9</td><td>0</td><td>true</td></tr></tbody></table>"
      ],
      "text/plain": [
       "6×12 DataFrames.DataFrame\n",
       "│ Row │ onset_ticks │ offset_ticks │ onset_wholes │ offset_wholes │ onset_secs │\n",
       "├─────┼─────────────┼──────────────┼──────────────┼───────────────┼────────────┤\n",
       "│ 1   │ 0           │ 46           │ 0//1         │ 23//384       │ 0.0        │\n",
       "│ 2   │ 0           │ 160          │ 0//1         │ 5//24         │ 0.0        │\n",
       "│ 3   │ 48          │ 94           │ 1//16        │ 47//384       │ 0.110294   │\n",
       "│ 4   │ 96          │ 142          │ 1//8         │ 71//384       │ 0.220588   │\n",
       "│ 5   │ 144         │ 190          │ 3//16        │ 95//384       │ 0.330882   │\n",
       "│ 6   │ 192         │ 238          │ 1//4         │ 119//384      │ 0.441176   │\n",
       "\n",
       "│ Row │ offset_secs │ pitch │ velocity │ track │ channel │ key_sharps │\n",
       "├─────┼─────────────┼───────┼──────────┼───────┼─────────┼────────────┤\n",
       "│ 1   │ 0.105698    │ 42    │ 110      │ 7     │ 9       │ 0          │\n",
       "│ 2   │ 0.367647    │ 36    │ 110      │ 7     │ 9       │ 0          │\n",
       "│ 3   │ 0.215992    │ 42    │ 110      │ 7     │ 9       │ 0          │\n",
       "│ 4   │ 0.326286    │ 42    │ 110      │ 7     │ 9       │ 0          │\n",
       "│ 5   │ 0.43658     │ 42    │ 110      │ 7     │ 9       │ 0          │\n",
       "│ 6   │ 0.546874    │ 42    │ 110      │ 7     │ 9       │ 0          │\n",
       "\n",
       "│ Row │ key_major │\n",
       "├─────┼───────────┤\n",
       "│ 1   │ true      │\n",
       "│ 2   │ true      │\n",
       "│ 3   │ true      │\n",
       "│ 4   │ true      │\n",
       "│ 5   │ true      │\n",
       "│ 6   │ true      │"
      ]
     },
     "execution_count": 9,
     "metadata": {},
     "output_type": "execute_result"
    }
   ],
   "source": [
    "notes = midifilenotes(\"Run_To_The_Hills.mid\")\n",
    "head(notes)"
   ]
  },
  {
   "cell_type": "code",
   "execution_count": 11,
   "metadata": {},
   "outputs": [
    {
     "data": {
      "text/plain": [
       "6-element DataArrays.DataArray{Int64,1}:\n",
       " 2\n",
       " 3\n",
       " 4\n",
       " 5\n",
       " 6\n",
       " 7"
      ]
     },
     "execution_count": 11,
     "metadata": {},
     "output_type": "execute_result"
    }
   ],
   "source": [
    "# this is a small pipeline:\n",
    "notes[:track] |> unique |> sort"
   ]
  },
  {
   "cell_type": "markdown",
   "metadata": {},
   "source": [
    "Notes:\n",
    "- Track 1 is reserved for meta events!\n",
    "- The other tracks are for vocals, vocal harmony, guitar 1, guitar 2, bass, drums\n",
    "\n",
    "# A look at the first bar"
   ]
  },
  {
   "cell_type": "code",
   "execution_count": null,
   "metadata": {},
   "outputs": [],
   "source": []
  },
  {
   "cell_type": "code",
   "execution_count": 23,
   "metadata": {},
   "outputs": [
    {
     "data": {
      "text/html": [
       "<table class=\"data-frame\"><thead><tr><th></th><th>onset_wholes</th><th>onset_ticks</th></tr></thead><tbody><tr><th>1</th><td>0//1</td><td>0</td></tr><tr><th>2</th><td>0//1</td><td>0</td></tr><tr><th>3</th><td>1//16</td><td>48</td></tr><tr><th>4</th><td>1//8</td><td>96</td></tr><tr><th>5</th><td>3//16</td><td>144</td></tr><tr><th>6</th><td>1//4</td><td>192</td></tr><tr><th>7</th><td>1//4</td><td>192</td></tr><tr><th>8</th><td>5//16</td><td>240</td></tr><tr><th>9</th><td>3//8</td><td>288</td></tr><tr><th>10</th><td>7//16</td><td>336</td></tr><tr><th>11</th><td>1//2</td><td>384</td></tr><tr><th>12</th><td>1//2</td><td>384</td></tr><tr><th>13</th><td>9//16</td><td>432</td></tr><tr><th>14</th><td>5//8</td><td>480</td></tr><tr><th>15</th><td>11//16</td><td>528</td></tr><tr><th>16</th><td>3//4</td><td>576</td></tr><tr><th>17</th><td>3//4</td><td>576</td></tr><tr><th>18</th><td>7//8</td><td>672</td></tr><tr><th>19</th><td>1//1</td><td>768</td></tr><tr><th>20</th><td>1//1</td><td>768</td></tr></tbody></table>"
      ],
      "text/plain": [
       "20×2 DataFrames.DataFrame\n",
       "│ Row │ onset_wholes │ onset_ticks │\n",
       "├─────┼──────────────┼─────────────┤\n",
       "│ 1   │ 0//1         │ 0           │\n",
       "│ 2   │ 0//1         │ 0           │\n",
       "│ 3   │ 1//16        │ 48          │\n",
       "│ 4   │ 1//8         │ 96          │\n",
       "│ 5   │ 3//16        │ 144         │\n",
       "│ 6   │ 1//4         │ 192         │\n",
       "│ 7   │ 1//4         │ 192         │\n",
       "│ 8   │ 5//16        │ 240         │\n",
       "│ 9   │ 3//8         │ 288         │\n",
       "│ 10  │ 7//16        │ 336         │\n",
       "│ 11  │ 1//2         │ 384         │\n",
       "│ 12  │ 1//2         │ 384         │\n",
       "│ 13  │ 9//16        │ 432         │\n",
       "│ 14  │ 5//8         │ 480         │\n",
       "│ 15  │ 11//16       │ 528         │\n",
       "│ 16  │ 3//4         │ 576         │\n",
       "│ 17  │ 3//4         │ 576         │\n",
       "│ 18  │ 7//8         │ 672         │\n",
       "│ 19  │ 1//1         │ 768         │\n",
       "│ 20  │ 1//1         │ 768         │"
      ]
     },
     "execution_count": 23,
     "metadata": {},
     "output_type": "execute_result"
    }
   ],
   "source": [
    "# drums in first bar\n",
    "# note: 192 ticks per quarter note\n",
    "notes[1:20, [:onset_wholes, :onset_ticks]]"
   ]
  },
  {
   "cell_type": "code",
   "execution_count": null,
   "metadata": {},
   "outputs": [],
   "source": []
  }
 ],
 "metadata": {
  "kernelspec": {
   "display_name": "Julia 0.6.1",
   "language": "julia",
   "name": "julia-0.6"
  },
  "language_info": {
   "file_extension": ".jl",
   "mimetype": "application/julia",
   "name": "julia",
   "version": "0.6.1"
  }
 },
 "nbformat": 4,
 "nbformat_minor": 2
}
